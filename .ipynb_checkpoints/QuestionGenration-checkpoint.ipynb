{
 "cells": [
  {
   "cell_type": "markdown",
   "id": "27d01a73",
   "metadata": {},
   "source": [
    "!pip install -U transformers==3.0.0\n",
    "\n",
    "!python -m nltk.downloader punkt"
   ]
  },
  {
   "cell_type": "code",
   "execution_count": 2,
   "id": "e29ce5cd",
   "metadata": {},
   "outputs": [],
   "source": [
    "from pipelines import pipeline"
   ]
  },
  {
   "cell_type": "code",
   "execution_count": 3,
   "id": "7ada6f79",
   "metadata": {},
   "outputs": [],
   "source": [
    "nlp = pipeline(\"question-generation\")"
   ]
  },
  {
   "cell_type": "code",
   "execution_count": 4,
   "id": "acae1fde",
   "metadata": {},
   "outputs": [],
   "source": [
    "text = \"Python is an interpreted, high-level, general-purpose programming language. Created by Guido van Rossum \\\n",
    "and first released in 1991, Python's design philosophy emphasizes code \\\n",
    "readability with its notable use of significant whitespace.\"\n",
    "\n",
    "text2 = \"Gravity (from Latin gravitas, meaning 'weight'), or gravitation, is a natural phenomenon by which all \\\n",
    "things with mass or energy—including planets, stars, galaxies, and even light—are brought toward (or gravitate toward) \\\n",
    "one another. On Earth, gravity gives weight to physical objects, and the Moon's gravity causes the ocean tides. \\\n",
    "The gravitational attraction of the original gaseous matter present in the Universe caused it to begin coalescing \\\n",
    "and forming stars and caused the stars to group together into galaxies, so gravity is responsible for many of \\\n",
    "the large-scale structures in the Universe. Gravity has an infinite range, although its effects become increasingly \\\n",
    "weaker as objects get further away\"\n",
    "\n",
    "text3 = \"42 is the answer to life, universe and everything.\"\n",
    "\n",
    "text4 = \"Forrest Gump is a 1994 American comedy-drama film directed by Robert Zemeckis and written by Eric Roth. \\\n",
    "It is based on the 1986 novel of the same name by Winston Groom and stars Tom Hanks, Robin Wright, Gary Sinise, \\\n",
    "Mykelti Williamson and Sally Field. The story depicts several decades in the life of Forrest Gump (Hanks), \\\n",
    "a slow-witted but kind-hearted man from Alabama who witnesses and unwittingly influences several defining \\\n",
    "historical events in the 20th century United States. The film differs substantially from the novel.\""
   ]
  },
  {
   "cell_type": "code",
   "execution_count": 5,
   "id": "faf809d3",
   "metadata": {},
   "outputs": [
    {
     "data": {
      "text/plain": [
       "[{'answer': 'Python',\n",
       "  'question': 'What is an interpreted, high-level, general-purpose programming language?'},\n",
       " {'answer': 'Guido van Rossum', 'question': 'Who created Python?'}]"
      ]
     },
     "execution_count": 5,
     "metadata": {},
     "output_type": "execute_result"
    }
   ],
   "source": [
    "nlp(text)"
   ]
  },
  {
   "cell_type": "code",
   "execution_count": 6,
   "id": "1ff52ecf",
   "metadata": {},
   "outputs": [],
   "source": [
    "nlp = pipeline(\"multitask-qa-qg\", model=\"valhalla/t5-base-qa-qg-hl\")"
   ]
  },
  {
   "cell_type": "code",
   "execution_count": 7,
   "id": "1f412f89",
   "metadata": {},
   "outputs": [
    {
     "data": {
      "text/plain": [
       "[{'answer': 'Python',\n",
       "  'question': 'What programming language was created by Guido van Rossum?'},\n",
       " {'answer': 'Guido van Rossum', 'question': 'Who created Python?'},\n",
       " {'answer': '1991', 'question': 'When was Python first released?'}]"
      ]
     },
     "execution_count": 7,
     "metadata": {},
     "output_type": "execute_result"
    }
   ],
   "source": [
    "nlp(text)"
   ]
  },
  {
   "cell_type": "code",
   "execution_count": null,
   "id": "9315184b",
   "metadata": {},
   "outputs": [],
   "source": []
  }
 ],
 "metadata": {
  "kernelspec": {
   "display_name": "Python 3",
   "language": "python",
   "name": "python3"
  },
  "language_info": {
   "codemirror_mode": {
    "name": "ipython",
    "version": 3
   },
   "file_extension": ".py",
   "mimetype": "text/x-python",
   "name": "python",
   "nbconvert_exporter": "python",
   "pygments_lexer": "ipython3",
   "version": "3.6.13"
  }
 },
 "nbformat": 4,
 "nbformat_minor": 5
}
