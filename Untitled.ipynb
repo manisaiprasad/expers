{
 "cells": [
  {
   "cell_type": "code",
   "execution_count": 23,
   "id": "0fb4404a",
   "metadata": {},
   "outputs": [],
   "source": [
    "class Property:\n",
    "    def __init__(self, property_type, property_value, max_bid_price):\n",
    "        self.property_value = property_value\n",
    "        self.property_type = property_type\n",
    "        self.max_bid_price = max_bid_price\n",
    "\n",
    "\n",
    "class Tender:\n",
    "    def __init__(self, buyerName, property_type, bidPrice):\n",
    "        self.buyerName = buyerName\n",
    "        self.property_type = property_type\n",
    "        self.bidPrice = bidPrice\n",
    "\n",
    "\n",
    "def bidProperty(properties, tenders):\n",
    "    for listedproperty in properties:\n",
    "        for tender in tenders:\n",
    "            print(listedproperty.property_type == tender.property_type)\n",
    "            if listedproperty.property_type == tender.property_type:\n",
    "                print(tender.bidPrice >= listedproperty.property_value)\n",
    "                print(tender.bidPrice <= listedproperty.max_bid_price)\n",
    "                if tender.bidPrice >= listedproperty.property_value and tender.bidPrice <= listedproperty.max_bid_price:\n",
    "                    return tender\n"
   ]
  },
  {
   "cell_type": "code",
   "execution_count": 2,
   "id": "d07ccd9f",
   "metadata": {},
   "outputs": [
    {
     "name": "stdout",
     "output_type": "stream",
     "text": [
      "2\n",
      "house\n",
      "15000\n",
      "20000\n",
      "land\n",
      "25000\n",
      "30000\n",
      "2\n",
      "mani\n",
      "land\n",
      "28000\n",
      "sai\n",
      "realeastae\n",
      "2500\n"
     ]
    }
   ],
   "source": [
    "properties = []\n",
    "tenders = []\n",
    "# input\n",
    "noOfProperty = int(input())\n",
    "for i in range(noOfProperty):\n",
    "    property_type = input()\n",
    "    property_value = int(input())\n",
    "    max_bid_price = int(input())\n",
    "    properties.append(Property(property_type, property_value, max_bid_price))\n",
    "noOfTenders = int(input())\n",
    "for j in range(noOfTenders):\n",
    "    buyerName = input()\n",
    "    property_type = input()\n",
    "    bidPrice = int(input())\n",
    "    tenders.append(Tender(buyerName, property_type, bidPrice))\n"
   ]
  },
  {
   "cell_type": "code",
   "execution_count": 25,
   "id": "8f136297",
   "metadata": {},
   "outputs": [
    {
     "name": "stdout",
     "output_type": "stream",
     "text": [
      "False\n",
      "False\n",
      "True\n",
      "True\n",
      "True\n",
      "mani\n",
      "house\n"
     ]
    }
   ],
   "source": [
    "bid = bidProperty(properties, tenders)\n",
    "print(bid.buyerName)\n",
    "for i in range(noOfProperty):\n",
    "    if properties[i].property_type == bid.property_type:\n",
    "        continue\n",
    "    print(properties[i].property_type)"
   ]
  },
  {
   "cell_type": "code",
   "execution_count": null,
   "id": "5a3e922e",
   "metadata": {},
   "outputs": [],
   "source": []
  }
 ],
 "metadata": {
  "kernelspec": {
   "display_name": "Python 3",
   "language": "python",
   "name": "python3"
  },
  "language_info": {
   "codemirror_mode": {
    "name": "ipython",
    "version": 3
   },
   "file_extension": ".py",
   "mimetype": "text/x-python",
   "name": "python",
   "nbconvert_exporter": "python",
   "pygments_lexer": "ipython3",
   "version": "3.6.13"
  }
 },
 "nbformat": 4,
 "nbformat_minor": 5
}
