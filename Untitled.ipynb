{
 "cells": [
  {
   "cell_type": "code",
   "execution_count": 23,
   "id": "0fb4404a",
   "metadata": {},
   "outputs": [],
   "source": [
    "class Property:\n",
    "    def __init__(self, property_type, property_value, max_bid_price):\n",
    "        self.property_value = property_value\n",
    "        self.property_type = property_type\n",
    "        self.max_bid_price = max_bid_price\n",
    "\n",
    "\n",
    "class Tender:\n",
    "    def __init__(self, buyerName, property_type, bidPrice):\n",
    "        self.buyerName = buyerName\n",
    "        self.property_type = property_type\n",
    "        self.bidPrice = bidPrice\n",
    "\n",
    "\n",
    "def bidProperty(properties, tenders):\n",
    "    for listedproperty in properties:\n",
    "        for tender in tenders:\n",
    "            print(listedproperty.property_type == tender.property_type)\n",
    "            if listedproperty.property_type == tender.property_type:\n",
    "                print(tender.bidPrice >= listedproperty.property_value)\n",
    "                print(tender.bidPrice <= listedproperty.max_bid_price)\n",
    "                if tender.bidPrice >= listedproperty.property_value and tender.bidPrice <= listedproperty.max_bid_price:\n",
    "                    return tender\n"
   ]
  },
  {
   "cell_type": "code",
   "execution_count": 2,
   "id": "d07ccd9f",
   "metadata": {},
   "outputs": [
    {
     "name": "stdout",
     "output_type": "stream",
     "text": [
      "2\n",
      "house\n",
      "15000\n",
      "20000\n",
      "land\n",
      "25000\n",
      "30000\n",
      "2\n",
      "mani\n",
      "land\n",
      "28000\n",
      "sai\n",
      "realeastae\n",
      "2500\n"
     ]
    }
   ],
   "source": [
    "properties = []\n",
    "tenders = []\n",
    "# input\n",
    "noOfProperty = int(input())\n",
    "for i in range(noOfProperty):\n",
    "    property_type = input()\n",
    "    property_value = int(input())\n",
    "    max_bid_price = int(input())\n",
    "    properties.append(Property(property_type, property_value, max_bid_price))\n",
    "noOfTenders = int(input())\n",
    "for j in range(noOfTenders):\n",
    "    buyerName = input()\n",
    "    property_type = input()\n",
    "    bidPrice = int(input())\n",
    "    tenders.append(Tender(buyerName, property_type, bidPrice))\n"
   ]
  },
  {
   "cell_type": "code",
   "execution_count": 25,
   "id": "8f136297",
   "metadata": {},
   "outputs": [
    {
     "name": "stdout",
     "output_type": "stream",
     "text": [
      "False\n",
      "False\n",
      "True\n",
      "True\n",
      "True\n",
      "mani\n",
      "house\n"
     ]
    }
   ],
   "source": [
    "bid = bidProperty(properties, tenders)\n",
    "print(bid.buyerName)\n",
    "for i in range(noOfProperty):\n",
    "    if properties[i].property_type == bid.property_type:\n",
    "        continue\n",
    "    print(properties[i].property_type)"
   ]
  },
  {
   "cell_type": "code",
   "execution_count": 1,
   "id": "5a3e922e",
   "metadata": {},
   "outputs": [],
   "source": [
    "li = [{'question': 'Who organises the tournament?', 'answer': [{'answer': 'ODI cricket', 'correct': False}, {'answer': 'ODI', 'correct': False}, {'answer': \"ICC Men's Cricket World Cup\", 'correct': False}, {'answer': 'the International Cricket Council', 'correct': True}]}, {'question': \"How long before the first men's cricket world cup was held?\", 'answer': [{'answer': 'two years', 'correct': True}, {'answer': 'only four years earlier', 'correct': False}, {'answer': 'the preceding three years', 'correct': False}, {'answer': '2024', 'correct': False}]}, {'question': 'What year was the best performance by a non-full-member team?', 'answer': [{'answer': 'two years', 'correct': False}, {'answer': 'June 1975', 'correct': False}, {'answer': 'about a month', 'correct': False}, {'answer': '2003', 'correct': True}]}, {'question': \"When was the first women's cricket tournament held?\", 'answer': [{'answer': '2019', 'correct': False}, {'answer': 'as early as 1912', 'correct': True}, {'answer': 'only four years earlier', 'correct': False}, {'answer': 'about a month', 'correct': False}]}, {'question': 'How many teams have competed in the 2019 tournament?', 'answer': [{'answer': 'eleven', 'correct': True}, {'answer': 'at least one', 'correct': False}, {'answer': 'fourteen', 'correct': False}, {'answer': 'One', 'correct': False}]}, {'question': 'When will the next tournament be held in India?', 'answer': [{'answer': '2024', 'correct': False}, {'answer': '2023', 'correct': True}, {'answer': 'two years', 'correct': False}, {'answer': '1987', 'correct': False}]}, {'question': \"Where did the first women's cricket world cup take place?\", 'answer': [{'answer': 'England', 'correct': False}, {'answer': 'South Africa', 'correct': True}, {'answer': 'Kenya', 'correct': False}, {'answer': 'Sri Lanka', 'correct': False}]}, {'question': 'What was the first World Cup played in 1975?', 'answer': [{'answer': 'the International Cricket Council', 'correct': False}, {'answer': \"ICC Men's Cricket World Cup\", 'correct': False}, {'answer': 'ODI', 'correct': False}, {'answer': 'ODI cricket', 'correct': True}]}, {'question': 'What is the cricket world cup?', 'answer': [{'answer': 'the International Cricket Council', 'correct': False}, {'answer': \"ICC Men's Cricket World Cup\", 'correct': False}, {'answer': 'ODI cricket', 'correct': False}, {'answer': 'ODI', 'correct': True}]}, {'question': 'How long does the tournament last?', 'answer': [{'answer': 'about a month', 'correct': True}, {'answer': '2023', 'correct': False}, {'answer': 'every four years', 'correct': False}, {'answer': 'only four years earlier', 'correct': False}]}]"
   ]
  },
  {
   "cell_type": "code",
   "execution_count": 2,
   "id": "ea3fb5c5",
   "metadata": {},
   "outputs": [
    {
     "data": {
      "text/plain": [
       "[{'question': 'Who organises the tournament?',\n",
       "  'answer': [{'answer': 'ODI cricket', 'correct': False},\n",
       "   {'answer': 'ODI', 'correct': False},\n",
       "   {'answer': \"ICC Men's Cricket World Cup\", 'correct': False},\n",
       "   {'answer': 'the International Cricket Council', 'correct': True}]},\n",
       " {'question': \"How long before the first men's cricket world cup was held?\",\n",
       "  'answer': [{'answer': 'two years', 'correct': True},\n",
       "   {'answer': 'only four years earlier', 'correct': False},\n",
       "   {'answer': 'the preceding three years', 'correct': False},\n",
       "   {'answer': '2024', 'correct': False}]},\n",
       " {'question': 'What year was the best performance by a non-full-member team?',\n",
       "  'answer': [{'answer': 'two years', 'correct': False},\n",
       "   {'answer': 'June 1975', 'correct': False},\n",
       "   {'answer': 'about a month', 'correct': False},\n",
       "   {'answer': '2003', 'correct': True}]},\n",
       " {'question': \"When was the first women's cricket tournament held?\",\n",
       "  'answer': [{'answer': '2019', 'correct': False},\n",
       "   {'answer': 'as early as 1912', 'correct': True},\n",
       "   {'answer': 'only four years earlier', 'correct': False},\n",
       "   {'answer': 'about a month', 'correct': False}]},\n",
       " {'question': 'How many teams have competed in the 2019 tournament?',\n",
       "  'answer': [{'answer': 'eleven', 'correct': True},\n",
       "   {'answer': 'at least one', 'correct': False},\n",
       "   {'answer': 'fourteen', 'correct': False},\n",
       "   {'answer': 'One', 'correct': False}]},\n",
       " {'question': 'When will the next tournament be held in India?',\n",
       "  'answer': [{'answer': '2024', 'correct': False},\n",
       "   {'answer': '2023', 'correct': True},\n",
       "   {'answer': 'two years', 'correct': False},\n",
       "   {'answer': '1987', 'correct': False}]},\n",
       " {'question': \"Where did the first women's cricket world cup take place?\",\n",
       "  'answer': [{'answer': 'England', 'correct': False},\n",
       "   {'answer': 'South Africa', 'correct': True},\n",
       "   {'answer': 'Kenya', 'correct': False},\n",
       "   {'answer': 'Sri Lanka', 'correct': False}]},\n",
       " {'question': 'What was the first World Cup played in 1975?',\n",
       "  'answer': [{'answer': 'the International Cricket Council', 'correct': False},\n",
       "   {'answer': \"ICC Men's Cricket World Cup\", 'correct': False},\n",
       "   {'answer': 'ODI', 'correct': False},\n",
       "   {'answer': 'ODI cricket', 'correct': True}]},\n",
       " {'question': 'What is the cricket world cup?',\n",
       "  'answer': [{'answer': 'the International Cricket Council', 'correct': False},\n",
       "   {'answer': \"ICC Men's Cricket World Cup\", 'correct': False},\n",
       "   {'answer': 'ODI cricket', 'correct': False},\n",
       "   {'answer': 'ODI', 'correct': True}]},\n",
       " {'question': 'How long does the tournament last?',\n",
       "  'answer': [{'answer': 'about a month', 'correct': True},\n",
       "   {'answer': '2023', 'correct': False},\n",
       "   {'answer': 'every four years', 'correct': False},\n",
       "   {'answer': 'only four years earlier', 'correct': False}]}]"
      ]
     },
     "execution_count": 2,
     "metadata": {},
     "output_type": "execute_result"
    }
   ],
   "source": [
    "li"
   ]
  },
  {
   "cell_type": "code",
   "execution_count": 3,
   "id": "8ca9d309",
   "metadata": {},
   "outputs": [
    {
     "data": {
      "text/plain": [
       "{'question': 'Who organises the tournament?',\n",
       " 'answer': [{'answer': 'ODI cricket', 'correct': False},\n",
       "  {'answer': 'ODI', 'correct': False},\n",
       "  {'answer': \"ICC Men's Cricket World Cup\", 'correct': False},\n",
       "  {'answer': 'the International Cricket Council', 'correct': True}]}"
      ]
     },
     "execution_count": 3,
     "metadata": {},
     "output_type": "execute_result"
    }
   ],
   "source": [
    "li[0]"
   ]
  },
  {
   "cell_type": "code",
   "execution_count": 4,
   "id": "4756a35f",
   "metadata": {},
   "outputs": [
    {
     "data": {
      "text/plain": [
       "{'question': \"How long before the first men's cricket world cup was held?\",\n",
       " 'answer': [{'answer': 'two years', 'correct': True},\n",
       "  {'answer': 'only four years earlier', 'correct': False},\n",
       "  {'answer': 'the preceding three years', 'correct': False},\n",
       "  {'answer': '2024', 'correct': False}]}"
      ]
     },
     "execution_count": 4,
     "metadata": {},
     "output_type": "execute_result"
    }
   ],
   "source": [
    "li[1]"
   ]
  },
  {
   "cell_type": "code",
   "execution_count": 14,
   "id": "15540a83",
   "metadata": {},
   "outputs": [
    {
     "data": {
      "text/plain": [
       "[{'answer': 'ODI cricket', 'correct': False},\n",
       " {'answer': 'ODI', 'correct': False},\n",
       " {'answer': \"ICC Men's Cricket World Cup\", 'correct': False},\n",
       " {'answer': 'the International Cricket Council', 'correct': True}]"
      ]
     },
     "execution_count": 14,
     "metadata": {},
     "output_type": "execute_result"
    }
   ],
   "source": [
    "li[0][\"answer\"]"
   ]
  },
  {
   "cell_type": "code",
   "execution_count": 12,
   "id": "dfb8234c",
   "metadata": {},
   "outputs": [],
   "source": [
    "newLi = []"
   ]
  },
  {
   "cell_type": "code",
   "execution_count": 16,
   "id": "6880c51a",
   "metadata": {},
   "outputs": [
    {
     "name": "stdout",
     "output_type": "stream",
     "text": [
      "False\n",
      "False\n",
      "False\n",
      "True\n"
     ]
    }
   ],
   "source": [
    "for i in range(len(li[0][\"answer\"])):\n",
    "    print(li[0][\"answer\"][i][\"correct\"])"
   ]
  },
  {
   "cell_type": "code",
   "execution_count": 29,
   "id": "26f31d6a",
   "metadata": {},
   "outputs": [],
   "source": [
    "qn = {}\n",
    "qn[\"question\"] = li[0][\"question\"]\n",
    "\n",
    "for i in range(len(li[0][\"answer\"])):\n",
    "    if li[0][\"answer\"][i][\"correct\"] is True:\n",
    "        qn[\"answer\"] = li[0][\"answer\"][i][\"answer\"]\n",
    "        "
   ]
  },
  {
   "cell_type": "code",
   "execution_count": 30,
   "id": "a8d848e6",
   "metadata": {},
   "outputs": [
    {
     "data": {
      "text/plain": [
       "{'question': 'Who organises the tournament?',\n",
       " 'answer': 'the International Cricket Council'}"
      ]
     },
     "execution_count": 30,
     "metadata": {},
     "output_type": "execute_result"
    }
   ],
   "source": [
    "qn"
   ]
  },
  {
   "cell_type": "code",
   "execution_count": 31,
   "id": "f4fb070c",
   "metadata": {},
   "outputs": [],
   "source": [
    "wrongeAnswers = []\n",
    "for i in range(len(li[0][\"answer\"])):\n",
    "    if li[0][\"answer\"][i][\"correct\"] is False:\n",
    "        \n",
    "        wrongeAnswers.append(li[0][\"answer\"][i][\"answer\"])\n",
    "qn[\"wrongeAnswers\"] = wrongeAnswers"
   ]
  },
  {
   "cell_type": "code",
   "execution_count": 32,
   "id": "c60ebd37",
   "metadata": {},
   "outputs": [
    {
     "data": {
      "text/plain": [
       "{'question': 'Who organises the tournament?',\n",
       " 'answer': 'the International Cricket Council',\n",
       " 'wrongeAnswers': ['ODI cricket', 'ODI', \"ICC Men's Cricket World Cup\"]}"
      ]
     },
     "execution_count": 32,
     "metadata": {},
     "output_type": "execute_result"
    }
   ],
   "source": [
    "qn"
   ]
  },
  {
   "cell_type": "code",
   "execution_count": 33,
   "id": "dda0afca",
   "metadata": {},
   "outputs": [],
   "source": [
    "for i in range(len(li)):\n",
    "    qn = {}\n",
    "    qn[\"question\"] = li[i][\"question\"]\n",
    "\n",
    "    for j in range(len(li[i][\"answer\"])):\n",
    "        if li[i][\"answer\"][j][\"correct\"] is True:\n",
    "            qn[\"answer\"] = li[i][\"answer\"][j][\"answer\"]\n",
    "    wrongeAnswers = []\n",
    "    \n",
    "    for j in range(len(li[i][\"answer\"])):\n",
    "        if li[i][\"answer\"][j][\"correct\"] is False:\n",
    "            wrongeAnswers.append(li[i][\"answer\"][j][\"answer\"])\n",
    "    qn[\"wrongeAnswers\"] = wrongeAnswers\n",
    "    newLi.append(qn)\n",
    "    "
   ]
  },
  {
   "cell_type": "code",
   "execution_count": 34,
   "id": "4e9fa58e",
   "metadata": {},
   "outputs": [
    {
     "data": {
      "text/plain": [
       "[{'question': 'Who organises the tournament?',\n",
       "  'answer': 'the International Cricket Council',\n",
       "  'wrongeAnswers': ['ODI cricket', 'ODI', \"ICC Men's Cricket World Cup\"]},\n",
       " {'question': \"How long before the first men's cricket world cup was held?\",\n",
       "  'answer': 'two years',\n",
       "  'wrongeAnswers': ['only four years earlier',\n",
       "   'the preceding three years',\n",
       "   '2024']},\n",
       " {'question': 'What year was the best performance by a non-full-member team?',\n",
       "  'answer': '2003',\n",
       "  'wrongeAnswers': ['two years', 'June 1975', 'about a month']},\n",
       " {'question': \"When was the first women's cricket tournament held?\",\n",
       "  'answer': 'as early as 1912',\n",
       "  'wrongeAnswers': ['2019', 'only four years earlier', 'about a month']},\n",
       " {'question': 'How many teams have competed in the 2019 tournament?',\n",
       "  'answer': 'eleven',\n",
       "  'wrongeAnswers': ['at least one', 'fourteen', 'One']},\n",
       " {'question': 'When will the next tournament be held in India?',\n",
       "  'answer': '2023',\n",
       "  'wrongeAnswers': ['2024', 'two years', '1987']},\n",
       " {'question': \"Where did the first women's cricket world cup take place?\",\n",
       "  'answer': 'South Africa',\n",
       "  'wrongeAnswers': ['England', 'Kenya', 'Sri Lanka']},\n",
       " {'question': 'What was the first World Cup played in 1975?',\n",
       "  'answer': 'ODI cricket',\n",
       "  'wrongeAnswers': ['the International Cricket Council',\n",
       "   \"ICC Men's Cricket World Cup\",\n",
       "   'ODI']},\n",
       " {'question': 'What is the cricket world cup?',\n",
       "  'answer': 'ODI',\n",
       "  'wrongeAnswers': ['the International Cricket Council',\n",
       "   \"ICC Men's Cricket World Cup\",\n",
       "   'ODI cricket']},\n",
       " {'question': 'How long does the tournament last?',\n",
       "  'answer': 'about a month',\n",
       "  'wrongeAnswers': ['2023', 'every four years', 'only four years earlier']}]"
      ]
     },
     "execution_count": 34,
     "metadata": {},
     "output_type": "execute_result"
    }
   ],
   "source": [
    "newLi"
   ]
  },
  {
   "cell_type": "code",
   "execution_count": 35,
   "id": "435e05c4",
   "metadata": {},
   "outputs": [
    {
     "data": {
      "text/plain": [
       "{'question': \"How long before the first men's cricket world cup was held?\",\n",
       " 'answer': 'two years',\n",
       " 'wrongeAnswers': ['only four years earlier',\n",
       "  'the preceding three years',\n",
       "  '2024']}"
      ]
     },
     "execution_count": 35,
     "metadata": {},
     "output_type": "execute_result"
    }
   ],
   "source": [
    "newLi[1]"
   ]
  },
  {
   "cell_type": "code",
   "execution_count": null,
   "id": "fd9ff621",
   "metadata": {},
   "outputs": [],
   "source": []
  }
 ],
 "metadata": {
  "kernelspec": {
   "display_name": "Python 3",
   "language": "python",
   "name": "python3"
  },
  "language_info": {
   "codemirror_mode": {
    "name": "ipython",
    "version": 3
   },
   "file_extension": ".py",
   "mimetype": "text/x-python",
   "name": "python",
   "nbconvert_exporter": "python",
   "pygments_lexer": "ipython3",
   "version": "3.6.13"
  }
 },
 "nbformat": 4,
 "nbformat_minor": 5
}
